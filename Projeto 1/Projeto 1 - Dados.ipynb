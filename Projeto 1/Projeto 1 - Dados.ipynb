{
 "cells": [
  {
   "cell_type": "markdown",
   "metadata": {},
   "source": [
    "# **Leitura dos arquivos e mudanças de índices**"
   ]
  },
  {
   "cell_type": "markdown",
   "metadata": {},
   "source": [
    "Rafael dos Santos - 2 ENG A"
   ]
  },
  {
   "cell_type": "code",
   "execution_count": 2,
   "metadata": {},
   "outputs": [],
   "source": [
    "%matplotlib inline\n",
    "import pandas as pd\n",
    "import numpy as np\n",
    "import math as math\n",
    "from scipy import stats\n",
    "import matplotlib.pyplot as plt"
   ]
  },
  {
   "cell_type": "markdown",
   "metadata": {},
   "source": [
    "# Introdução\n",
    "Se a idade de casamento e a quantidade de filhos que as mulheres tem afeta o IDH.\n"
   ]
  },
  {
   "cell_type": "code",
   "execution_count": 3,
   "metadata": {},
   "outputs": [],
   "source": [
    "#Leitura dos arquivos em Excel\n",
    "\n",
    "HDI = pd.read_excel('hdi_human_development_index.xlsx')\n",
    "Children_Woman = pd.read_excel('children_per_woman_total_fertility.xlsx')\n",
    "Age_marriage = pd.read_excel('age_at_1st_marriage_women.xlsx')"
   ]
  },
  {
   "cell_type": "code",
   "execution_count": 4,
   "metadata": {},
   "outputs": [],
   "source": [
    "#Selecionar apenas o ano de 2005, pois é o ano com mais dados\n",
    "\n",
    "HDI_2005 = HDI.loc[:, [\"geo\", 2005]]\n",
    "Children_Woman_2005 = Children_Woman.loc[:, [\"geo\", 2005]]\n",
    "Age_marriage_2005 = Age_marriage.loc[:, ['geo',2005]]"
   ]
  },
  {
   "cell_type": "markdown",
   "metadata": {},
   "source": [
    "Index change"
   ]
  },
  {
   "cell_type": "code",
   "execution_count": 5,
   "metadata": {},
   "outputs": [],
   "source": [
    "HDI_idx = HDI_2005.set_index('geo')\n",
    "Children_Woman_idx = Children_Woman_2005.set_index('geo')\n",
    "Age_marriage_idx = Age_marriage_2005.set_index('geo')\n",
    "Age_marriage_idx['2005_Marriage'] = Age_marriage_idx.pop(2005)\n",
    "HDI_idx = HDI_idx.dropna()\n",
    "Children_Woman_idx = Children_Woman_idx.dropna()\n",
    "Age_marriage_idx = Age_marriage_idx.dropna()"
   ]
  },
  {
   "cell_type": "markdown",
   "metadata": {},
   "source": [
    "DataFrame join"
   ]
  },
  {
   "cell_type": "code",
   "execution_count": 6,
   "metadata": {},
   "outputs": [
    {
     "data": {
      "text/html": [
       "<div>\n",
       "<style scoped>\n",
       "    .dataframe tbody tr th:only-of-type {\n",
       "        vertical-align: middle;\n",
       "    }\n",
       "\n",
       "    .dataframe tbody tr th {\n",
       "        vertical-align: top;\n",
       "    }\n",
       "\n",
       "    .dataframe thead th {\n",
       "        text-align: right;\n",
       "    }\n",
       "</style>\n",
       "<table border=\"1\" class=\"dataframe\">\n",
       "  <thead>\n",
       "    <tr style=\"text-align: right;\">\n",
       "      <th></th>\n",
       "      <th>2005_HDI</th>\n",
       "      <th>2005_Children</th>\n",
       "      <th>2005_Marriage</th>\n",
       "    </tr>\n",
       "    <tr>\n",
       "      <th>geo</th>\n",
       "      <th></th>\n",
       "      <th></th>\n",
       "      <th></th>\n",
       "    </tr>\n",
       "  </thead>\n",
       "  <tbody>\n",
       "    <tr>\n",
       "      <th>Afghanistan</th>\n",
       "      <td>0.405</td>\n",
       "      <td>6.83</td>\n",
       "      <td>17.8</td>\n",
       "    </tr>\n",
       "    <tr>\n",
       "      <th>Albania</th>\n",
       "      <td>0.696</td>\n",
       "      <td>1.75</td>\n",
       "      <td>23.3</td>\n",
       "    </tr>\n",
       "    <tr>\n",
       "      <th>Algeria</th>\n",
       "      <td>0.686</td>\n",
       "      <td>2.50</td>\n",
       "      <td>29.6</td>\n",
       "    </tr>\n",
       "    <tr>\n",
       "      <th>Argentina</th>\n",
       "      <td>0.782</td>\n",
       "      <td>2.45</td>\n",
       "      <td>23.3</td>\n",
       "    </tr>\n",
       "    <tr>\n",
       "      <th>Armenia</th>\n",
       "      <td>0.692</td>\n",
       "      <td>1.40</td>\n",
       "      <td>23.0</td>\n",
       "    </tr>\n",
       "    <tr>\n",
       "      <th>Australia</th>\n",
       "      <td>0.915</td>\n",
       "      <td>1.86</td>\n",
       "      <td>28.9</td>\n",
       "    </tr>\n",
       "    <tr>\n",
       "      <th>Austria</th>\n",
       "      <td>0.854</td>\n",
       "      <td>1.41</td>\n",
       "      <td>28.9</td>\n",
       "    </tr>\n",
       "  </tbody>\n",
       "</table>\n",
       "</div>"
      ],
      "text/plain": [
       "             2005_HDI  2005_Children  2005_Marriage\n",
       "geo                                                \n",
       "Afghanistan     0.405           6.83           17.8\n",
       "Albania         0.696           1.75           23.3\n",
       "Algeria         0.686           2.50           29.6\n",
       "Argentina       0.782           2.45           23.3\n",
       "Armenia         0.692           1.40           23.0\n",
       "Australia       0.915           1.86           28.9\n",
       "Austria         0.854           1.41           28.9"
      ]
     },
     "execution_count": 6,
     "metadata": {},
     "output_type": "execute_result"
    }
   ],
   "source": [
    "df = HDI_idx.join(Children_Woman_idx, how='inner', lsuffix='_HDI', rsuffix='_Children')\n",
    "df = df.join(Age_marriage_idx, how='inner')\n",
    "df.head(7)"
   ]
  },
  {
   "cell_type": "code",
   "execution_count": 7,
   "metadata": {},
   "outputs": [
    {
     "data": {
      "image/png": "[encoded data removed]",
      "text/plain": [
       "<matplotlib.figure.Figure at 0x28927149400>"
      ]
     },
     "metadata": {},
     "output_type": "display_data"
    }
   ],
   "source": [
    "df.plot.scatter(x=\"2005_HDI\", y=\"2005_Children\", grid=True, title= \"Quantidade de Filhos por Mulher em relação ao IDH (Gráfico 1)\");"
   ]
  },
  {
   "cell_type": "code",
   "execution_count": 15,
   "metadata": {},
   "outputs": [
    {
     "data": {
      "image/png": "[encoded data removed]",
      "text/plain": [
       "<matplotlib.figure.Figure at 0x28928793160>"
      ]
     },
     "metadata": {},
     "output_type": "display_data"
    }
   ],
   "source": [
    "df.plot.scatter(x=\"2005_HDI\", y=\"2005_Marriage\", grid=True, title= \"Primeiro casamento por IDH (Gráfico 2)\");"
   ]
  },
  {
   "cell_type": "code",
   "execution_count": 9,
   "metadata": {},
   "outputs": [
    {
     "data": {
      "image/png": "[encoded data removed]",
      "text/plain": [
       "<matplotlib.figure.Figure at 0x289272596d8>"
      ]
     },
     "metadata": {},
     "output_type": "display_data"
    }
   ],
   "source": [
    "df.plot.scatter(x=\"2005_Children\", y=\"2005_Marriage\", grid=True, title= \"Quantidade de filhos por Primeiro casamento (Gráfico 3)\");"
   ]
  },
  {
   "cell_type": "markdown",
   "metadata": {},
   "source": [
    "Tabela de Corelação "
   ]
  },
  {
   "cell_type": "code",
   "execution_count": 19,
   "metadata": {},
   "outputs": [
    {
     "data": {
      "text/html": [
       "<div>\n",
       "<style scoped>\n",
       "    .dataframe tbody tr th:only-of-type {\n",
       "        vertical-align: middle;\n",
       "    }\n",
       "\n",
       "    .dataframe tbody tr th {\n",
       "        vertical-align: top;\n",
       "    }\n",
       "\n",
       "    .dataframe thead th {\n",
       "        text-align: right;\n",
       "    }\n",
       "</style>\n",
       "<table border=\"1\" class=\"dataframe\">\n",
       "  <thead>\n",
       "    <tr style=\"text-align: right;\">\n",
       "      <th></th>\n",
       "      <th>2005_HDI</th>\n",
       "      <th>2005_Children</th>\n",
       "      <th>2005_Marriage</th>\n",
       "    </tr>\n",
       "  </thead>\n",
       "  <tbody>\n",
       "    <tr>\n",
       "      <th>2005_HDI</th>\n",
       "      <td>1.000000</td>\n",
       "      <td>-0.868473</td>\n",
       "      <td>0.762423</td>\n",
       "    </tr>\n",
       "    <tr>\n",
       "      <th>2005_Children</th>\n",
       "      <td>-0.868473</td>\n",
       "      <td>1.000000</td>\n",
       "      <td>-0.655110</td>\n",
       "    </tr>\n",
       "    <tr>\n",
       "      <th>2005_Marriage</th>\n",
       "      <td>0.762423</td>\n",
       "      <td>-0.655110</td>\n",
       "      <td>1.000000</td>\n",
       "    </tr>\n",
       "  </tbody>\n",
       "</table>\n",
       "</div>"
      ],
      "text/plain": [
       "               2005_HDI  2005_Children  2005_Marriage\n",
       "2005_HDI       1.000000      -0.868473       0.762423\n",
       "2005_Children -0.868473       1.000000      -0.655110\n",
       "2005_Marriage  0.762423      -0.655110       1.000000"
      ]
     },
     "execution_count": 19,
     "metadata": {},
     "output_type": "execute_result"
    }
   ],
   "source": [
    "df.corr()"
   ]
  },
  {
   "cell_type": "markdown",
   "metadata": {},
   "source": [
    "# Conclusão\n",
    "A necessidade de estudos para melhor atender o mercado de trabalho dos paises com um maior idh, faz com que muitas mulheres busquem uma vida academica mais completa e essa decisão normalmente faz com que o casamento aconteça de forma mais tardia e o acesso a informação que os estudos fornecem provem ajuda as mulheres a ter filhos planejados."
   ]
  },
  {
   "cell_type": "code",
   "execution_count": null,
   "metadata": {},
   "outputs": [],
   "source": [
    "csv = df.to_csv()\n",
    "\n",
    "with open('arquivo.csv', 'w') as arq:\n",
    "    arq.write(csv)"
   ]
  },
  {
   "cell_type": "code",
   "execution_count": null,
   "metadata": {},
   "outputs": [],
   "source": []
  }
 ],
 "metadata": {
  "kernelspec": {
   "display_name": "Python 3",
   "language": "python",
   "name": "python3"
  },
  "language_info": {
   "codemirror_mode": {
    "name": "ipython",
    "version": 3
   },
   "file_extension": ".py",
   "mimetype": "text/x-python",
   "name": "python",
   "nbconvert_exporter": "python",
   "pygments_lexer": "ipython3",
   "version": "3.6.4"
  }
 },
 "nbformat": 4,
 "nbformat_minor": 2
}
